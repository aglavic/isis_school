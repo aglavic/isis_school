{
 "cells": [
  {
   "cell_type": "markdown",
   "metadata": {
    "collapsed": true,
    "pycharm": {
     "name": "#%% md\n"
    }
   },
   "source": [
    "# Optical parameters for neutrons and x-rays\n",
    "\n",
    "## Fresnel reflectivity and refraction in terms of refractive index\n",
    "\n",
    "While the refractive index in reflectometry experiments is define the same way as in classical optics (see [Wikipedia](https://en.wikipedia.org/wiki/Snell's_law\n",
    ")) the typical choice for the angle $\\alpha$ is with respect to the surface of the sample, not the surface normal.\n",
    "\n",
    "<img src=\"../figures/snell_refl.png\" alt=\"angle sketch\" width=\"20%\"/>\n",
    "\n",
    "Thus the Snell's Law becomes:\n",
    "\n",
    "$\\frac{n_1}{n_0} = \\frac{\\cos{\\alpha_0}}{\\cos{\\alpha_1}}$\n",
    "\n",
    "Here the $n_0$ and $n_1$ are the refractive indices of the material befor and after the interface, respectively.\n",
    "\n",
    "Equivalently to the reciprocal space definition used in chapter [3](../3_reflectometry_slab_models/how_we_calculate_the_reflectivity_of_a_slab_model) one can calculate the Fresnel reflectivity accoring to these refractive indices:\n",
    "\n",
    "$r_{n, n+1}(\\alpha) = \\left| \\frac{ n_0 \\sin{\\alpha_0} - n_1 \\sin{\\alpha_1} }{ n_0 \\sin{\\alpha_0} + n_1 \\sin{\\alpha_1} } \\right|^2$"
   ]
  },
  {
   "cell_type": "markdown",
   "metadata": {
    "pycharm": {
     "name": "#%% md\n"
    }
   },
   "source": [
    "## Refractive index and the scattering length density (SLD)\n",
    "\n",
    "For neutrons and x-rays the refractive index is always close to 1. It is convenitently described by the radiation and material dependent scattering length density (SLD) according to:\n",
    "\n",
    "$ n^2 = 1 - \\lambda^2 \\frac{SLD_{n/x}}{\\pi}$\n",
    "\n",
    "In the case of neutrons $\\lambda^2 \\frac{SLD}{\\pi}$ is in the order of $10^{-6}$ while for x-rays it is around $10^{-5}$.\n",
    "The SLD is a complex quantity where the imaginary part descirbes effects of absorption. For most elements the absorption for neutrons is negligible."
   ]
  },
  {
   "cell_type": "markdown",
   "metadata": {
    "pycharm": {
     "name": "#%% md\n"
    }
   },
   "source": [
    "## SLD for neutrons\n",
    "\n",
    "In thermal and cold neutrons for most elements the SLD does not depend on the beam energy/wavelength and can be directly calculated from the material density and the elemental coherent scattering length $b_n$ that are tabulated in (see [NIST table](https://www.ncnr.nist.gov/resources/n-lengths/)):\n",
    "\n",
    "$ SLD_n = \\rho_{FU} \\sum_{FU}{ b_{n_i} } $\n",
    "\n",
    "Where $\\rho_{FU}$ is the number density of the formula unit and the scattering length, $b_{n_i}$, of all elements in the FU are summed.\n",
    "\n",
    "Magnetic moments on individual atoms also contribute to the SLD with a sign that depends on the relative orientation to the neutron spin. This is outside of the scope of this chapter."
   ]
  },
  {
   "cell_type": "markdown",
   "metadata": {
    "pycharm": {
     "name": "#%% md\n"
    }
   },
   "source": [
    "## Refractive index for x-rays\n",
    "\n",
    "For x-rays the energy dependance of the SLD can not be ignored, especially close to absorption edges of the elements in the sample material.\n",
    "The scattering Thopson potential leads to a SLD defined as:\n",
    "\n",
    "$ SLD_x(E) = \\rho_{FU} \\sum_{FU}{ \\frac{r_e}{2} (f'(E) - i f''(E)) }$ # please check this!!!\n",
    "\n",
    "Here $r_e = \\frac{1}{4\\pi}\\frac{e^2}{m_e c^2}$ is the classical electron radius (see [Wikipedia](https://en.wikipedia.org/wiki/Classical_electron_radius)) and f' and f'' are the energy dependent x-ray scattering factors.\n"
   ]
  },
  {
   "cell_type": "markdown",
   "metadata": {
    "pycharm": {
     "name": "#%% md\n"
    }
   },
   "source": [
    "## Implications of different contrasts for neutrons and x-rays\n",
    "\n",
    "We will calculate an example to illustrate the difference the SLD calculation makes to the reflectivity experiment.\n",
    "We will use the simple example of a layer of something on water:"
   ]
  },
  {
   "cell_type": "code",
   "execution_count": 3,
   "metadata": {
    "pycharm": {
     "name": "#%%\n"
    }
   },
   "outputs": [],
   "source": [
    "import numpy as np\n",
    "import matplotlib.pyplot as plt\n",
    "import utils"
   ]
  },
  {
   "cell_type": "code",
   "execution_count": 13,
   "metadata": {
    "pycharm": {
     "name": "#%%\n"
    }
   },
   "outputs": [
    {
     "name": "stdout",
     "output_type": "stream",
     "text": [
      "The neutron values are: SLDn_H2O=-5.581741199999997e-07, SLDn_D2O=6.407304119999999e-06, SLDn_layer=-5.822479152000001e-07\n",
      "The x-ray values are: SLDx_water=(9.466991901664356e-06-2.9725010164397537e-08j), SLDx_layer=(6.51359435660888e-06-6.940392077826248e-09j)\n"
     ]
    }
   ],
   "source": [
    "alpha = np.linspace(0, 6.0, 600) * np.pi/180.\n",
    "\n",
    "rho_FU_water = 0.03342360 # 1/angstrom³\n",
    "rho_FU_layer = 0.00461223 # 1/angstrom³\n",
    "r_e = 2.817940326e-5 # angstrom\n",
    "\n",
    "SLDn_H2O = rho_FU_water *   ( -3.75e-5*2 + 5.83e-5 )\n",
    "SLDn_D2O = rho_FU_water *   (  6.67e-5*2 + 5.83e-5)\n",
    "SLDn_layer = rho_FU_layer * ( -3.75e-5*14 + 6.646e-5*6 ) # C6H14\n",
    "SLDx_water = rho_FU_water * r_e*((1.00001-0.00000j)*2 + 8.05139-0.03156j)\n",
    "SLDx_layer = rho_FU_layer * r_e*((1.00001-0.00000j)*14 + (6.01934-0.00890j)*6 ) # C6H14\n",
    "\n",
    "print(f'The neutron values are: {SLDn_H2O=}, {SLDn_D2O=}, {SLDn_layer=}')\n",
    "print(f'The x-ray values are: {SLDx_water=}, {SLDx_layer=}')"
   ]
  },
  {
   "cell_type": "markdown",
   "metadata": {
    "pycharm": {
     "name": "#%% md\n"
    }
   },
   "source": [
    "We use the RefNX package to calculate the reflecitity curves:"
   ]
  },
  {
   "cell_type": "code",
   "execution_count": 23,
   "metadata": {
    "pycharm": {
     "name": "#%%\n"
    }
   },
   "outputs": [
    {
     "data": {
      "image/png": "[encoded data removed]",
      "text/plain": [
       "<Figure size 432x288 with 1 Axes>"
      ]
     },
     "metadata": {
      "needs_background": "light"
     },
     "output_type": "display_data"
    }
   ],
   "source": [
    "from refnx.reflect import SLD, ReflectModel, Structure\n",
    "\n",
    "q = 4*np.pi/1.54*np.sin(alpha)\n",
    "\n",
    "structure = Structure()\n",
    "air = SLD(0.0)\n",
    "structure |= air(50.0, 3.0)\n",
    "mn_layer = SLD(SLDn_layer * 1e6)\n",
    "structure |= mn_layer(50.0, 3.0)\n",
    "mn_H2O = SLD(SLDn_H2O * 1e6)\n",
    "structure |= mn_H2O(100.0, 3.0)\n",
    "model = ReflectModel(structure, bkg=0.0)\n",
    "\n",
    "plt.semilogy(alpha, model(q), label='neutron protonated')\n",
    "\n",
    "structure = Structure()\n",
    "air = SLD(0.0)\n",
    "structure |= air(50.0, 3.0)\n",
    "mn_layer = SLD(SLDn_layer * 1e6)\n",
    "structure |= mn_layer(50.0, 3.0)\n",
    "mn_D2O = SLD(SLDn_D2O * 1e6)\n",
    "structure |= mn_D2O(100.0, 3.0)\n",
    "model = ReflectModel(structure, bkg=0.0)\n",
    "\n",
    "plt.semilogy(alpha, model(q), label='neutron deuterated')\n",
    "\n",
    "structure = Structure()\n",
    "air = SLD(0.0)\n",
    "structure |= air(50.0, 3.0)\n",
    "mx_layer = SLD(SLDx_layer * 1e6)\n",
    "structure |= mx_layer(50.0, 3.0)\n",
    "mx_H2O = SLD(SLDx_water * 1e6)\n",
    "structure |= mx_H2O(100.0, 3.0)\n",
    "model = ReflectModel(structure, bkg=0.0)\n",
    "\n",
    "plt.semilogy(alpha, model(q), label='x-ray')\n",
    "plt.legend()\n",
    "plt.xlim(0, None)\n",
    "plt.ylim(None, 2);"
   ]
  },
  {
   "cell_type": "code",
   "execution_count": 21,
   "metadata": {
    "pycharm": {
     "name": "#%%\n"
    }
   },
   "outputs": [],
   "source": [
    "# we should add a second example with more absorption and heavier elements"
   ]
  }
 ],
 "metadata": {
  "kernelspec": {
   "display_name": "Python 3 (ipykernel)",
   "language": "python",
   "name": "python3"
  },
  "language_info": {
   "codemirror_mode": {
    "name": "ipython",
    "version": 3
   },
   "file_extension": ".py",
   "mimetype": "text/x-python",
   "name": "python",
   "nbconvert_exporter": "python",
   "pygments_lexer": "ipython3",
   "version": "3.9.13"
  }
 },
 "nbformat": 4,
 "nbformat_minor": 1
}
